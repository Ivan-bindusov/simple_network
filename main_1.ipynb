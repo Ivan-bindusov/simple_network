{
 "cells": [
  {
   "cell_type": "code",
   "execution_count": 296,
   "metadata": {},
   "outputs": [],
   "source": [
    "import numpy as np\n",
    "from numpy import ndarray\n",
    "import matplotlib.pyplot as plt\n",
    "from typing import List"
   ]
  },
  {
   "cell_type": "code",
   "execution_count": 297,
   "metadata": {},
   "outputs": [],
   "source": [
    "class Layer(object):\n",
    "\n",
    "    def __init__(self):\n",
    "        pass\n",
    "\n",
    "    def forward(self, input_):\n",
    "        return self._output(input_)\n",
    "\n",
    "    def backprop(self, backprop_grad):\n",
    "        return self._backprop(backprop_grad)\n",
    "\n",
    "    def _output(self, input_):\n",
    "        raise NotImplementedError()\n",
    "\n",
    "    def _backprop(self, backprop_grad):\n",
    "        raise NotImplementedError()"
   ]
  },
  {
   "cell_type": "code",
   "execution_count": 298,
   "metadata": {},
   "outputs": [],
   "source": [
    "class ParamLayer(Layer):\n",
    "\n",
    "    def __init__(self, input_size, neurons):\n",
    "        super().__init__()\n",
    "        self.neurons = neurons\n",
    "        self.input_size = input_size\n",
    "\n",
    "        self._init_params()\n",
    "\n",
    "    def forward(self, input_):\n",
    "        self.input_ = input_\n",
    "        return self._output()\n",
    "\n",
    "    def _backprop(self, backprop_grad):\n",
    "        self._param_grads(backprop_grad)\n",
    "\n",
    "        return self._input_grad(backprop_grad)\n",
    "\n",
    "    def _param_grads(self, backprop_grad):\n",
    "        raise NotImplementedError()\n",
    "\n",
    "    def _input_grad(self, backprop_grad):\n",
    "        raise NotImplementedError()\n",
    "\n",
    "    def _init_params(self):\n",
    "        raise NotImplementedError()"
   ]
  },
  {
   "cell_type": "code",
   "execution_count": 299,
   "metadata": {},
   "outputs": [],
   "source": [
    "class Linear(ParamLayer):\n",
    "\n",
    "    def __init__(self, input_size, neurons):\n",
    "        super().__init__(input_size, neurons)\n",
    "\n",
    "    def _init_params(self):\n",
    "        self.params = []\n",
    "        self.params.append(np.random.normal(size=(self.input_size, self.neurons)))\n",
    "        self.params.append(np.random.normal(size=(1, self.neurons)))\n",
    "\n",
    "    def _output(self):\n",
    "        return np.dot(self.input_, self.params[0]) + self.params[1]\n",
    "\n",
    "    def _param_grads(self, backprop_grad):\n",
    "        self.param_grads = []\n",
    "        self.param_grads.append(np.dot(self.input_.T, backprop_grad))\n",
    "        self.param_grads.append(np.sum(backprop_grad, axis=0).reshape(1, self.neurons))\n",
    "\n",
    "    def _input_grad(self, backprop_grad):\n",
    "        return np.dot(backprop_grad, self.params[0].T)"
   ]
  },
  {
   "cell_type": "code",
   "execution_count": 300,
   "metadata": {},
   "outputs": [],
   "source": [
    "class Sigmoid(Layer):\n",
    "\n",
    "    def __init__(self):\n",
    "        super().__init__()\n",
    "\n",
    "    def _output(self, input_):\n",
    "        self.output = 1.0/(1.0+np.exp(-1.0*input_))\n",
    "        return self.output\n",
    "\n",
    "    def _backprop(self, backprop_grad):\n",
    "        return (self.output * (1.0 - self.output)) * backprop_grad"
   ]
  },
  {
   "cell_type": "code",
   "execution_count": 301,
   "metadata": {},
   "outputs": [],
   "source": [
    "class Tanh(Layer):\n",
    "\n",
    "    def __init__(self):\n",
    "        super().__init__()\n",
    "\n",
    "    def _output(self, input_):\n",
    "        self.output = np.tanh(input_)\n",
    "        return self.output\n",
    "\n",
    "    def _backprop(self, backprop_grad):\n",
    "        return (1.0 - self.output**2) * backprop_grad"
   ]
  },
  {
   "cell_type": "code",
   "execution_count": 302,
   "metadata": {},
   "outputs": [],
   "source": [
    "class Model(object):\n",
    "\n",
    "    def __init__(self, layers=[]):\n",
    "        self.layers = layers\n",
    "\n",
    "    def forward(self, input_):\n",
    "        output = input_\n",
    "        for layer in self.layers:\n",
    "            output = layer.forward(output)\n",
    "\n",
    "        return output\n",
    "\n",
    "    def backprop(self, backprop_grad):\n",
    "        back_grad = backprop_grad\n",
    "        for layer in reversed(self.layers):\n",
    "            back_grad = layer.backprop(back_grad)\n",
    "\n",
    "        self._param_grads()\n",
    "\n",
    "    def parameters(self):\n",
    "        params = []\n",
    "        for layer in self.layers:\n",
    "            if hasattr(layer, 'params'):\n",
    "                for param in layer.params:\n",
    "                    params.append(param)\n",
    "        return params\n",
    "\n",
    "    def _param_grads(self):\n",
    "        self.param_grads = []\n",
    "        for layer in self.layers:\n",
    "            if hasattr(layer, 'params'):\n",
    "                for param_grad in layer.param_grads:\n",
    "                    self.param_grads.append(param_grad)"
   ]
  },
  {
   "cell_type": "code",
   "execution_count": 303,
   "metadata": {},
   "outputs": [],
   "source": [
    "class Loss(object):\n",
    "\n",
    "    def __init__(self):\n",
    "        pass\n",
    "\n",
    "    def forward(self, y_pred, y_target):\n",
    "        \n",
    "        return self._output(y_pred, y_target)\n",
    "\n",
    "    def backprop(self, y_pred, y_target):\n",
    "        \n",
    "        return self._backprop(y_pred, y_target)"
   ]
  },
  {
   "cell_type": "code",
   "execution_count": 304,
   "metadata": {},
   "outputs": [],
   "source": [
    "class MeanSquaredError(Loss):\n",
    "\n",
    "    def __init__(self):\n",
    "        super().__init__()\n",
    "\n",
    "    def _output(self, y_pred, y_target):\n",
    "        return np.mean(np.sum((y_pred - y_target)**2, axis=1))\n",
    "\n",
    "    def _backprop(self, y_pred, y_target):\n",
    "        return 2.0 * (y_pred - y_target)/y_target.shape[0]"
   ]
  },
  {
   "cell_type": "code",
   "execution_count": 305,
   "metadata": {},
   "outputs": [],
   "source": [
    "class Optimiser(object):\n",
    "\n",
    "    def __init__(self, model, lr=0.01):\n",
    "        self.model = model\n",
    "        self.lr = lr\n",
    "        self.params = self.model.parameters()\n",
    "\n",
    "    def step(self):\n",
    "        self._train()\n",
    "\n",
    "    def _train(self):\n",
    "        raise NotImplementedError()\n",
    "\n",
    "    def initialize(self):\n",
    "        raise NotImplementedError()"
   ]
  },
  {
   "cell_type": "code",
   "execution_count": 318,
   "metadata": {},
   "outputs": [],
   "source": [
    "class SGDOptimiser(Optimiser):\n",
    "\n",
    "    def __init__(self, model, lr=0.01):\n",
    "        super().__init__(model, lr)\n",
    "\n",
    "    def initialize(self):\n",
    "        pass\n",
    "\n",
    "    def _train(self):\n",
    "\n",
    "        for param, param_grad in zip(self.params, self.model.param_grads):\n",
    "\n",
    "            param -= param_grad * self.lr"
   ]
  },
  {
   "cell_type": "code",
   "execution_count": 319,
   "metadata": {},
   "outputs": [],
   "source": [
    "class SGDMomentum(Optimiser):\n",
    "\n",
    "    def __init__(self, model, lr=0.01, mu=0.9):\n",
    "        super().__init__(model, lr)\n",
    "        self.mu = mu\n",
    "        self.velocity = []\n",
    "        for param in self.params:\n",
    "            p = np.zeros_like(param)\n",
    "            self.velocity.append(p)\n",
    "\n",
    "    def clear(self):\n",
    "        for v in self.velocity:\n",
    "            zero_v = np.zeros_like(v)\n",
    "            v = zero_v\n",
    "\n",
    "    def _train(self):\n",
    "        for i, (param, param_grad, v) in enumerate(zip(self.params, self.model.param_grads, self.velocity)):\n",
    "            self.velocity[i] = self.mu*v + self.lr*param_grad\n",
    "            param -= self.velocity[i]"
   ]
  },
  {
   "cell_type": "code",
   "execution_count": 308,
   "metadata": {},
   "outputs": [],
   "source": [
    "class DataLoader(object):\n",
    "\n",
    "    def __init__(self,\n",
    "                x_train,\n",
    "                y_train,\n",
    "                batch_size,\n",
    "                shuffle=False):\n",
    "\n",
    "        self.batch_size = batch_size\n",
    "        self.x_train = x_train\n",
    "        self.y_train = y_train\n",
    "        self.data_len = self.x_train.shape[0]\n",
    "        self.shuffled = shuffle\n",
    "\n",
    "    def shuffle(self):\n",
    "        indexing = np.random.permutation(self.data_len)\n",
    "        self.x_train_sh, self.y_train_sh = self.x_train[indexing], self.y_train[indexing]\n",
    "\n",
    "    def get_batch(self):\n",
    "        for ii in range(0, self.data_len, self.batch_size):\n",
    "            if self.shuffled:\n",
    "                yield self.x_train_sh[ii:ii+self.batch_size], self.y_train_sh[ii:ii+self.batch_size]\n",
    "            else:\n",
    "                yield self.x_train[ii:ii+self.batch_size], self.y_train[ii:ii+self.batch_size]"
   ]
  },
  {
   "cell_type": "code",
   "execution_count": 320,
   "metadata": {},
   "outputs": [],
   "source": [
    "class TrainNetwork(object):\n",
    "\n",
    "    def __init__(self,\n",
    "                model,\n",
    "                loss_function,\n",
    "                optimiser,\n",
    "                data_loader,\n",
    "                epochs=100,\n",
    "                eval_every=10):\n",
    "        self.model = model\n",
    "        self.loss_function = loss_function\n",
    "        self.optimiser = optimiser\n",
    "        self.data_loader = data_loader\n",
    "        self.epochs = epochs\n",
    "        self.shuffle = self.data_loader.shuffled\n",
    "        self.eval_every = eval_every\n",
    "\n",
    "    def fit(self, x_test, y_test):\n",
    "\n",
    "        for epoch in range(self.epochs):\n",
    "            if self.shuffle:\n",
    "                self.data_loader.shuffle()\n",
    "\n",
    "            self.optimiser.clear()\n",
    "\n",
    "            for x_train, y_train in self.data_loader.get_batch():\n",
    "\n",
    "                y_pred = self.model.forward(x_train)\n",
    "                loss_grad = self.loss_function.backprop(y_pred, y_train)\n",
    "                self.model.backprop(loss_grad)\n",
    "\n",
    "                self.optimiser.step()\n",
    "\n",
    "            if (epoch + 1) % self.eval_every == 0:\n",
    "                y_pred = self.model.forward(x_test)\n",
    "                loss = self.loss_function.forward(y_pred, y_test)\n",
    "                print(\"Loss:\", loss)"
   ]
  },
  {
   "cell_type": "code",
   "execution_count": 321,
   "metadata": {},
   "outputs": [],
   "source": [
    "x = np.linspace(0, 1.0, 200)\n",
    "y = 1.0*x + np.sin(x * 10.0) * 0.15 + np.random.normal(size=(x.shape[0],)) * 0.04\n",
    "\n",
    "x_train, y_train = x.reshape(-1, 1), y.reshape(-1, 1)"
   ]
  },
  {
   "cell_type": "code",
   "execution_count": 347,
   "metadata": {},
   "outputs": [],
   "source": [
    "model = Model([\n",
    "    Linear(1, 10),\n",
    "    Tanh(),\n",
    "    Linear(10, 10),\n",
    "    Tanh(),\n",
    "    Linear(10, 1)\n",
    "])"
   ]
  },
  {
   "cell_type": "code",
   "execution_count": 348,
   "metadata": {},
   "outputs": [],
   "source": [
    "data_loader = DataLoader(x_train, y_train, 40, True)\n",
    "loss_function = MeanSquaredError()\n",
    "optimiser = SGDMomentum(model, 0.02, 0.7)"
   ]
  },
  {
   "cell_type": "code",
   "execution_count": 349,
   "metadata": {},
   "outputs": [],
   "source": [
    "trainer = TrainNetwork(model, loss_function, optimiser, data_loader, 1000, 100)"
   ]
  },
  {
   "cell_type": "code",
   "execution_count": 350,
   "metadata": {},
   "outputs": [
    {
     "name": "stdout",
     "output_type": "stream",
     "text": [
      "Loss: 0.004849994084677723\n",
      "Loss: 0.0034679151111856143\n",
      "Loss: 0.0027198532290583816\n",
      "Loss: 0.0022907199284912007\n",
      "Loss: 0.001930166429214053\n",
      "Loss: 0.001750685107632934\n",
      "Loss: 0.0016518425355033944\n",
      "Loss: 0.001587875180192913\n",
      "Loss: 0.001555325821952454\n",
      "Loss: 0.001567510168229424\n"
     ]
    }
   ],
   "source": [
    "trainer.fit(x_train, y_train)"
   ]
  },
  {
   "cell_type": "code",
   "execution_count": 351,
   "metadata": {},
   "outputs": [],
   "source": [
    "y_pred = model.forward(x_train)"
   ]
  },
  {
   "cell_type": "code",
   "execution_count": 352,
   "metadata": {},
   "outputs": [
    {
     "data": {
      "image/png": "[encoded data removed]",
      "text/plain": [
       "<Figure size 640x480 with 1 Axes>"
      ]
     },
     "metadata": {},
     "output_type": "display_data"
    }
   ],
   "source": [
    "plt.scatter(x, y)\n",
    "plt.plot(x, y_pred.reshape(200), color='red')\n",
    "plt.show()"
   ]
  },
  {
   "cell_type": "code",
   "execution_count": 355,
   "metadata": {},
   "outputs": [
    {
     "name": "stdout",
     "output_type": "stream",
     "text": [
      "(1, 10)\n",
      "(1, 10)\n",
      "(10, 10)\n",
      "(1, 10)\n",
      "(10, 1)\n",
      "(1, 1)\n"
     ]
    }
   ],
   "source": [
    "optimiser.clear()\n",
    "for v in optimiser.velocity:\n",
    "    print(v.shape)"
   ]
  },
  {
   "cell_type": "code",
   "execution_count": null,
   "metadata": {},
   "outputs": [],
   "source": []
  }
 ],
 "metadata": {
  "kernelspec": {
   "display_name": "Python 3.12.1 ('myenv')",
   "language": "python",
   "name": "python3"
  },
  "language_info": {
   "codemirror_mode": {
    "name": "ipython",
    "version": 3
   },
   "file_extension": ".py",
   "mimetype": "text/x-python",
   "name": "python",
   "nbconvert_exporter": "python",
   "pygments_lexer": "ipython3",
   "version": "3.12.1"
  },
  "orig_nbformat": 4,
  "vscode": {
   "interpreter": {
    "hash": "cfa1c9bfdf2b2059721375403635703fbc57302512f06c7e9e9d64e01f1d98b6"
   }
  }
 },
 "nbformat": 4,
 "nbformat_minor": 2
}
