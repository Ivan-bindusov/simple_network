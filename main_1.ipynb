{
 "cells": [
  {
   "cell_type": "code",
   "execution_count": 163,
   "metadata": {},
   "outputs": [],
   "source": [
    "import numpy as np\n",
    "from numpy import ndarray\n",
    "import matplotlib.pyplot as plt\n",
    "from typing import List\n",
    "import seaborn as sns"
   ]
  },
  {
   "cell_type": "code",
   "execution_count": 164,
   "metadata": {},
   "outputs": [],
   "source": [
    "class Layer(object):\n",
    "\n",
    "    def __init__(self):\n",
    "        pass\n",
    "\n",
    "    def forward(self, input_):\n",
    "        return self._output(input_)\n",
    "\n",
    "    def backprop(self, backprop_grad):\n",
    "        return self._backprop(backprop_grad)\n",
    "\n",
    "    def _output(self, input_):\n",
    "        raise NotImplementedError()\n",
    "\n",
    "    def _backprop(self, backprop_grad):\n",
    "        raise NotImplementedError()"
   ]
  },
  {
   "cell_type": "code",
   "execution_count": 165,
   "metadata": {},
   "outputs": [],
   "source": [
    "class ParamLayer(Layer):\n",
    "\n",
    "    def __init__(self, input_size, neurons):\n",
    "        super().__init__()\n",
    "        self.neurons = neurons\n",
    "        self.input_size = input_size\n",
    "\n",
    "        self._init_params()\n",
    "\n",
    "    def forward(self, input_):\n",
    "        self.input_ = input_\n",
    "        return self._output()\n",
    "\n",
    "    def _backprop(self, backprop_grad):\n",
    "        self._param_grads(backprop_grad)\n",
    "\n",
    "        return self._input_grad(backprop_grad)\n",
    "\n",
    "    def _param_grads(self, backprop_grad):\n",
    "        raise NotImplementedError()\n",
    "\n",
    "    def _input_grad(self, backprop_grad):\n",
    "        raise NotImplementedError()\n",
    "\n",
    "    def _init_params(self):\n",
    "        raise NotImplementedError()"
   ]
  },
  {
   "cell_type": "code",
   "execution_count": 166,
   "metadata": {},
   "outputs": [],
   "source": [
    "class Linear(ParamLayer):\n",
    "\n",
    "    def __init__(self, input_size, neurons):\n",
    "        super().__init__(input_size, neurons)\n",
    "\n",
    "    def _init_params(self):\n",
    "        self.params = []\n",
    "        self.params.append(np.random.normal(size=(self.input_size, self.neurons)))\n",
    "        self.params.append(np.random.normal(size=(1, self.neurons)))\n",
    "\n",
    "    def _output(self):\n",
    "        return np.dot(self.input_, self.params[0]) + self.params[1]\n",
    "\n",
    "    def _param_grads(self, backprop_grad):\n",
    "        self.param_grads = []\n",
    "        self.param_grads.append(np.dot(self.input_.T, backprop_grad))\n",
    "        self.param_grads.append(np.sum(backprop_grad, axis=0).reshape(1, self.neurons))\n",
    "\n",
    "    def _input_grad(self, backprop_grad):\n",
    "        return np.dot(backprop_grad, self.params[0].T)"
   ]
  },
  {
   "cell_type": "code",
   "execution_count": 167,
   "metadata": {},
   "outputs": [],
   "source": [
    "class Sigmoid(Layer):\n",
    "\n",
    "    def __init__(self):\n",
    "        super().__init__()\n",
    "\n",
    "    def _output(self, input_):\n",
    "        self.output = 1.0/(1.0+np.exp(-1.0*input_))\n",
    "        return self.output\n",
    "\n",
    "    def _backprop(self, backprop_grad):\n",
    "        return (self.output * (1.0 - self.output)) * backprop_grad"
   ]
  },
  {
   "cell_type": "code",
   "execution_count": 168,
   "metadata": {},
   "outputs": [],
   "source": [
    "class Tanh(Layer):\n",
    "\n",
    "    def __init__(self):\n",
    "        super().__init__()\n",
    "\n",
    "    def _output(self, input_):\n",
    "        self.output = np.tanh(input_)\n",
    "        return self.output\n",
    "\n",
    "    def _backprop(self, backprop_grad):\n",
    "        return (1.0 - self.output**2) * backprop_grad"
   ]
  },
  {
   "cell_type": "code",
   "execution_count": 169,
   "metadata": {},
   "outputs": [],
   "source": [
    "class Model(object):\n",
    "\n",
    "    def __init__(self, layers=[]):\n",
    "        self.layers = layers\n",
    "\n",
    "    def forward(self, input_):\n",
    "        output = input_\n",
    "        for layer in self.layers:\n",
    "            output = layer.forward(output)\n",
    "\n",
    "        return output\n",
    "\n",
    "    def backprop(self, backprop_grad):\n",
    "        back_grad = backprop_grad\n",
    "        for layer in reversed(self.layers):\n",
    "            back_grad = layer.backprop(back_grad)\n",
    "\n",
    "        self._param_grads()\n",
    "\n",
    "    def parameters(self):\n",
    "        params = []\n",
    "        for layer in self.layers:\n",
    "            if hasattr(layer, 'params'):\n",
    "                for param in layer.params:\n",
    "                    params.append(param)\n",
    "        return params\n",
    "\n",
    "    def _param_grads(self):\n",
    "        self.param_grads = []\n",
    "        for layer in self.layers:\n",
    "            if hasattr(layer, 'params'):\n",
    "                for param_grad in layer.param_grads:\n",
    "                    self.param_grads.append(param_grad)"
   ]
  },
  {
   "cell_type": "code",
   "execution_count": 170,
   "metadata": {},
   "outputs": [],
   "source": [
    "class DataLoader(object):\n",
    "\n",
    "    def __init__(self,\n",
    "                x_train,\n",
    "                y_train,\n",
    "                batch_size,\n",
    "                shuffle=False):\n",
    "\n",
    "        self.batch_size = batch_size\n",
    "        self.x_train = x_train\n",
    "        self.y_train = y_train\n",
    "        self.data_len = self.x_train.shape[0]\n",
    "        self.shuffled = shuffle\n",
    "\n",
    "    def shuffle(self):\n",
    "        indexing = np.random.permutation(self.data_len)\n",
    "        self.x_train_sh, self.y_train_sh = self.x_train[indexing], self.y_train[indexing]\n",
    "        self.shuffled = True\n",
    "\n",
    "    def get_batch(self):\n",
    "        for ii in range(0, self.data_len, self.batch_size):\n",
    "            if self.shuffled:\n",
    "                yield self.x_train_sh[ii:ii+self.batch_size], self.y_train_sh[ii:ii+self.batch_size]\n",
    "            else:\n",
    "                yield self.x_train[ii:ii+self.batch_size], self.y_train[ii:ii+self.batch_size]"
   ]
  },
  {
   "cell_type": "code",
   "execution_count": 171,
   "metadata": {},
   "outputs": [],
   "source": [
    "x = np.linspace(0, 1.0, 200)\n",
    "y = 1.0*x + np.sin(x * 10.0) * 0.15 + np.random.normal(size=(x.shape[0],)) * 0.04\n",
    "\n",
    "x_train, y_train = x.reshape(-1, 1), y.reshape(-1, 1)"
   ]
  },
  {
   "cell_type": "code",
   "execution_count": 172,
   "metadata": {},
   "outputs": [],
   "source": [
    "model = Model([\n",
    "    Linear(1, 10),\n",
    "    Tanh(),\n",
    "    Linear(10, 10),\n",
    "    Tanh(),\n",
    "    Linear(10, 1)\n",
    "])"
   ]
  },
  {
   "cell_type": "code",
   "execution_count": 173,
   "metadata": {},
   "outputs": [],
   "source": [
    "data_loader = DataLoader(x_train, y_train, 40, True)\n",
    "data_loader.shuffle()"
   ]
  },
  {
   "cell_type": "code",
   "execution_count": 174,
   "metadata": {},
   "outputs": [
    {
     "name": "stdout",
     "output_type": "stream",
     "text": [
      "0.009530646068995275\n",
      "0.008238330177514927\n",
      "0.007349223031071823\n",
      "0.006603664208738963\n",
      "0.005897840503666425\n",
      "0.0051676370536770525\n",
      "0.004379646682805222\n",
      "0.003568331768764576\n",
      "0.0028566456271763574\n",
      "0.0023555061948745955\n"
     ]
    }
   ],
   "source": [
    "params = model.parameters()\n",
    "\n",
    "for epoch in range(1000):\n",
    "    for x_batch, y_batch in data_loader.get_batch():\n",
    "        y_pred = model.forward(x_batch)\n",
    "        error_grad = 2.0 * (y_pred - y_batch)/x_batch.shape[0]\n",
    "\n",
    "        model.backprop(error_grad)\n",
    "\n",
    "        for param_grad, param in zip(model.param_grads, params):\n",
    "            param -= param_grad * 0.03\n",
    "\n",
    "    if (epoch + 1) % 100 == 0:\n",
    "        y_pred = model.forward(x_train)\n",
    "        error = np.mean(np.sum((y_pred - y_train)**2, axis=1))\n",
    "        print(error)\n"
   ]
  },
  {
   "cell_type": "code",
   "execution_count": 175,
   "metadata": {},
   "outputs": [],
   "source": [
    "y_pred = model.forward(x_train)"
   ]
  },
  {
   "cell_type": "code",
   "execution_count": 176,
   "metadata": {},
   "outputs": [
    {
     "name": "stderr",
     "output_type": "stream",
     "text": [
      "/home/ivan/miniconda3/envs/env1/lib/python3.12/site-packages/seaborn/_oldcore.py:1119: FutureWarning: use_inf_as_na option is deprecated and will be removed in a future version. Convert inf values to NaN before operating instead.\n",
      "  with pd.option_context('mode.use_inf_as_na', True):\n",
      "/home/ivan/miniconda3/envs/env1/lib/python3.12/site-packages/seaborn/_oldcore.py:1119: FutureWarning: use_inf_as_na option is deprecated and will be removed in a future version. Convert inf values to NaN before operating instead.\n",
      "  with pd.option_context('mode.use_inf_as_na', True):\n"
     ]
    },
    {
     "data": {
      "text/plain": [
       "<Axes: >"
      ]
     },
     "execution_count": 176,
     "metadata": {},
     "output_type": "execute_result"
    },
    {
     "data": {
      "image/png": "[encoded data removed]",
      "text/plain": [
       "<Figure size 640x480 with 1 Axes>"
      ]
     },
     "metadata": {},
     "output_type": "display_data"
    }
   ],
   "source": [
    "sns.scatterplot(x=x, y=y)\n",
    "sns.lineplot(x=x, y=y_pred.reshape(200), color='red')"
   ]
  },
  {
   "cell_type": "code",
   "execution_count": null,
   "metadata": {},
   "outputs": [],
   "source": []
  }
 ],
 "metadata": {
  "kernelspec": {
   "display_name": "Python 3.12.1 ('env1')",
   "language": "python",
   "name": "python3"
  },
  "language_info": {
   "codemirror_mode": {
    "name": "ipython",
    "version": 3
   },
   "file_extension": ".py",
   "mimetype": "text/x-python",
   "name": "python",
   "nbconvert_exporter": "python",
   "pygments_lexer": "ipython3",
   "version": "3.12.1"
  },
  "orig_nbformat": 4,
  "vscode": {
   "interpreter": {
    "hash": "9771ab8b96a7a8752d1444f519c03448bb598be10ac9921663957d167d46eaf6"
   }
  }
 },
 "nbformat": 4,
 "nbformat_minor": 2
}
