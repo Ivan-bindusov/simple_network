{
 "cells": [
  {
   "cell_type": "code",
   "execution_count": 12,
   "metadata": {},
   "outputs": [],
   "source": [
    "import numpy as np\n",
    "from numpy import ndarray\n",
    "import matplotlib.pyplot as plt\n",
    "from typing import List\n",
    "import seaborn as sns"
   ]
  },
  {
   "cell_type": "code",
   "execution_count": 13,
   "metadata": {},
   "outputs": [],
   "source": [
    "class Layer(object):\n",
    "    \n",
    "    def __init__(self):\n",
    "        pass\n",
    "    \n",
    "    def forward(self, input_: ndarray) -> ndarray:\n",
    "        return self._output(input_)\n",
    "    \n",
    "    def backward(self, back_grad: ndarray) -> ndarray:\n",
    "        raise NotImplementedError"
   ]
  },
  {
   "cell_type": "code",
   "execution_count": 14,
   "metadata": {},
   "outputs": [],
   "source": [
    "class ParamLayer(Layer):\n",
    "    \n",
    "    def __init__(self, num_neurons: int):\n",
    "        self.neurons = num_neurons\n",
    "        self.first = True\n",
    "        \n",
    "    def forward(self, input_: ndarray) -> ndarray:\n",
    "        self.input_ = input_\n",
    "        return self._output(self.input_)\n",
    "        \n",
    "    def backward(self, back_grad: ndarray) -> ndarray:\n",
    "        self._param_derivation(back_grad)\n",
    "        return self._input_derivation(back_grad)\n",
    "        \n",
    "    def _output(self, input_: ndarray) -> ndarray:\n",
    "        raise NotImplementedError()\n",
    "        \n",
    "    def _param_derivation(self, back_grad: ndarray):\n",
    "        raise NotImplementedError()\n",
    "        \n",
    "    def _input_derivation(self, back_grad: ndarray) -> ndarray:\n",
    "        raise NotImplementedError()"
   ]
  },
  {
   "cell_type": "code",
   "execution_count": 15,
   "metadata": {},
   "outputs": [],
   "source": [
    "class Linear(ParamLayer):\n",
    "    \n",
    "    def __init__(self, input_size, num_neurons: int):\n",
    "        super().__init__(num_neurons)\n",
    "        self.params = []\n",
    "        self.params.append(np.random.normal(size=(input_size, self.neurons)))\n",
    "        self.params.append(np.random.normal(size=(1, self.neurons)))\n",
    "\n",
    "    def _output(self, input_: ndarray) -> ndarray:\n",
    "        return np.dot(self.input_, self.params[0]) + self.params[1]\n",
    "        \n",
    "    def _param_derivation(self, back_grad: ndarray):\n",
    "        self.param_derivates = []\n",
    "        self.param_derivates.append(np.dot(self.input_.T, back_grad))\n",
    "        self.param_derivates.append(np.sum(back_grad, axis=0).reshape(1, self.neurons))\n",
    "        \n",
    "    def _input_derivation(self, back_grad: ndarray) -> ndarray:\n",
    "        return np.dot(back_grad, self.params[0].T)"
   ]
  },
  {
   "cell_type": "code",
   "execution_count": 16,
   "metadata": {},
   "outputs": [],
   "source": [
    "class Sigmoid(Layer):\n",
    "    \n",
    "    def __init__(self):\n",
    "        pass\n",
    "    \n",
    "    def _output(self, input_):\n",
    "        self.output = 1/(1+np.exp(-input_))\n",
    "        return self.output\n",
    "    \n",
    "    def backward(self, backprop_grad: ndarray) -> ndarray:\n",
    "        return self.output * (1.0 - self.output) * backprop_grad"
   ]
  },
  {
   "cell_type": "code",
   "execution_count": 17,
   "metadata": {},
   "outputs": [],
   "source": [
    "class Tanh(Layer):\n",
    "\n",
    "    def __init__(self):\n",
    "        pass\n",
    "\n",
    "    def _output(self, input_):\n",
    "        self.output = np.tanh(input_)\n",
    "        return self.output\n",
    "\n",
    "    def backward(self, backprop_grad: ndarray) -> ndarray:\n",
    "        return (1.0 - self.output**2) * backprop_grad"
   ]
  },
  {
   "cell_type": "code",
   "execution_count": 18,
   "metadata": {},
   "outputs": [],
   "source": [
    "class Model(object):\n",
    "    \n",
    "    def __init__(self, layers: List[Layer]):\n",
    "        self.layers = layers\n",
    "        \n",
    "    def forward(self, input_: ndarray) -> ndarray:\n",
    "        output = input_\n",
    "        for layer in self.layers:\n",
    "            output = layer.forward(output)\n",
    "        return output\n",
    "    \n",
    "    def backward(self, error_grad: ndarray):\n",
    "        back_error = error_grad\n",
    "        for layer in reversed(self.layers):\n",
    "            back_error = layer.backward(back_error)\n",
    "\n",
    "        self._param_grads()\n",
    "            \n",
    "    def params(self):\n",
    "        params_list = []\n",
    "        for layer in self.layers:\n",
    "            if hasattr(layer, 'params'):\n",
    "                for param in layer.params:\n",
    "                    params_list.append(param)\n",
    "        return params_list\n",
    "                    \n",
    "    def _param_grads(self):\n",
    "        self.param_grads = []\n",
    "        for layer in self.layers:\n",
    "            if hasattr(layer, 'params'):\n",
    "                 for param_derivate in layer.param_derivates:\n",
    "                        self.param_grads.append(param_derivate)"
   ]
  },
  {
   "cell_type": "code",
   "execution_count": 19,
   "metadata": {},
   "outputs": [],
   "source": [
    "x = np.linspace(0, 1.0, 200)\n",
    "y = 1.0*x + np.sin(x * 10.0) * 0.15 + np.random.normal(size=(x.shape[0],)) * 0.04\n",
    "\n",
    "x_train = x.reshape(-1, 1)\n",
    "y_target = x.reshape(-1, 1)"
   ]
  },
  {
   "cell_type": "code",
   "execution_count": 20,
   "metadata": {},
   "outputs": [
    {
     "name": "stdout",
     "output_type": "stream",
     "text": [
      "0.00032578189533048236\n",
      "0.00017348510622091092\n",
      "0.00016451378208927675\n",
      "0.00016546176004139207\n",
      "0.0001589105817185867\n",
      "0.00015876097451171048\n",
      "0.000155325292079032\n",
      "0.00015276114780913845\n",
      "0.0001563071962427418\n",
      "0.00014807811669884454\n"
     ]
    }
   ],
   "source": [
    "linear1 = Linear(1, 10)\n",
    "tan1 = Tanh()\n",
    "linear2 = Linear(10, 10)\n",
    "tan2 = Tanh()\n",
    "linear3 = Linear(10, 1)\n",
    "model = Model([linear1, tan1, linear2, tan2, linear3])\n",
    "\n",
    "params = model.params()\n",
    "\n",
    "for epoch in range(1000):\n",
    "    shuffled = np.random.permutation(x_train.shape[0])\n",
    "    x_train_sh, y_target_sh = x_train[shuffled], y_target[shuffled]\n",
    "    for ii in range(0, x_train.shape[0], 40):\n",
    "        x_batch, y_batch = x_train_sh[ii:ii + 40], y_target_sh[ii:ii + 40]\n",
    "        y_pred = model.forward(x_batch)\n",
    "        error = 2.0 * (y_pred - y_batch)/y_batch.shape[0]\n",
    "        model.backward(error)\n",
    "\n",
    "        for (param, param_grad) in zip(params, model.param_grads):\n",
    "            param -= param_grad * 0.03\n",
    "\n",
    "    if (epoch + 1) % 100 == 0:\n",
    "        y_pred = model.forward(x_train)\n",
    "        error = np.mean(np.sum((y_pred - y_target)**2, axis=1))\n",
    "        print(error)\n",
    "\n"
   ]
  },
  {
   "cell_type": "code",
   "execution_count": 21,
   "metadata": {},
   "outputs": [],
   "source": [
    "y_pred = model.forward(x_train)"
   ]
  },
  {
   "cell_type": "code",
   "execution_count": 22,
   "metadata": {},
   "outputs": [
    {
     "data": {
      "image/png": "[encoded data removed]",
      "text/plain": [
       "<Figure size 640x480 with 1 Axes>"
      ]
     },
     "metadata": {},
     "output_type": "display_data"
    }
   ],
   "source": [
    "plt.scatter(x=x, y=y)\n",
    "plt.plot(x, y_pred.reshape(200))\n",
    "plt.show()"
   ]
  },
  {
   "cell_type": "code",
   "execution_count": null,
   "metadata": {},
   "outputs": [],
   "source": []
  }
 ],
 "metadata": {
  "kernelspec": {
   "display_name": "Python 3.12.1 ('env1')",
   "language": "python",
   "name": "python3"
  },
  "language_info": {
   "codemirror_mode": {
    "name": "ipython",
    "version": 3
   },
   "file_extension": ".py",
   "mimetype": "text/x-python",
   "name": "python",
   "nbconvert_exporter": "python",
   "pygments_lexer": "ipython3",
   "version": "3.12.1"
  },
  "orig_nbformat": 4,
  "vscode": {
   "interpreter": {
    "hash": "9771ab8b96a7a8752d1444f519c03448bb598be10ac9921663957d167d46eaf6"
   }
  }
 },
 "nbformat": 4,
 "nbformat_minor": 2
}
